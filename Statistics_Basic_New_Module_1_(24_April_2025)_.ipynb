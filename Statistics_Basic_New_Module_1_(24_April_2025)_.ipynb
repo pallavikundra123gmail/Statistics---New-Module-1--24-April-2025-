{
  "nbformat": 4,
  "nbformat_minor": 0,
  "metadata": {
    "colab": {
      "provenance": []
    },
    "kernelspec": {
      "name": "python3",
      "display_name": "Python 3"
    },
    "language_info": {
      "name": "python"
    }
  },
  "cells": [
    {
      "cell_type": "markdown",
      "source": [
        "Theory Questions"
      ],
      "metadata": {
        "id": "hBv_FZ0mvvoN"
      }
    },
    {
      "cell_type": "code",
      "source": [
        "#1. What is Statistics, and why is it Important?\n",
        "\n",
        "#ans.>>statistics is a mathematical science including method of collecting, organising and analysing data in such way that meaningful conclusion can be drawn from them, it is important because with the help of statistics we can able to draw the conclusion from the data we collected instead of making guess\n"
      ],
      "metadata": {
        "id": "6XwCC9_dgjH2"
      },
      "execution_count": null,
      "outputs": []
    },
    {
      "cell_type": "code",
      "source": [
        "#2. What are the Two Main Types of Statistics?\n",
        "\n",
        "#ans.>> There are two types of statistics:-\n",
        "#     1. Descriptive:- it helps in summarising the data which we collected (central tendencey, dispersion,symmertricity)\n",
        "#     2. inferential :- it helps in making decision by the data which is collected (probability, central limit theorem)\n"
      ],
      "metadata": {
        "id": "sOexpItrwZBo"
      },
      "execution_count": null,
      "outputs": []
    },
    {
      "cell_type": "code",
      "source": [
        "#3. What are Descriptive Statistics?\n",
        "\n",
        "#ans.>> descriptive statistics:- it consists of organising and summarising the complete data/population\n",
        "#       example:- mean, median, mode\n"
      ],
      "metadata": {
        "id": "7NMGCO4ewnDt"
      },
      "execution_count": null,
      "outputs": []
    },
    {
      "cell_type": "code",
      "source": [
        "#4. What is Inferential Statistics?\n",
        "\n",
        "#ans.>> it consists of using sample data that has been measured to form conclusion about a population\n",
        "#       example:- we want to count total no. of trees in jungle having huge area so we can take sample of small area of jungle and result from such sample will apply to whole jungle\n"
      ],
      "metadata": {
        "id": "cLLfpod6woYx"
      },
      "execution_count": null,
      "outputs": []
    },
    {
      "cell_type": "code",
      "source": [
        "#5. What is Sampling in Statistics?\n",
        "\n",
        "#ans.>>1.Sampling is selecting a small group from a larger population to study.\n",
        "#     2. Saves time and money compared to studying the whole population.\n"
      ],
      "metadata": {
        "id": "m-FXiIyEwxmW"
      },
      "execution_count": null,
      "outputs": []
    },
    {
      "cell_type": "code",
      "source": [
        "#6. What are Different Types of Sampling Methods?\n",
        "\n",
        "#ans.>> there are four types of sampling methods: -\n",
        "#     1. simple random sampling: - each element of population having equal chance to be selected\n",
        "#     2. stratified sampling: - taking element from each group of population\n",
        "#     3. cluster sampling:- select all elements of any of random group from population\n",
        "#     4. systematic sampling:- selecting elements of population by giving equal intervals between them\n"
      ],
      "metadata": {
        "id": "l5Gym1K_w3Zh"
      },
      "execution_count": null,
      "outputs": []
    },
    {
      "cell_type": "code",
      "source": [
        "#7. Difference Between Random and Non-Random Sampling\n",
        "\n",
        "#ans.>> 1. random sampling:- in this type of sampling every element having equal chance to be selected\n",
        "#       2. non-random sampling :-  in this type of sampling every element doesn't having equal chance to be selected\n"
      ],
      "metadata": {
        "id": "vcGXmqkixHEC"
      },
      "execution_count": null,
      "outputs": []
    },
    {
      "cell_type": "code",
      "source": [
        "#8. Define and Give Examples of Qualitative and Quantitative Data\n",
        "\n",
        "#ans.>> 1.Quantitative data :- these are the numerical data which having some quantity (.i.e. 12,32,54,13 etc)\n",
        "#       2. Qualitative data: - these are the categorical data having some quality (. i.e. red, blue, male, female etc)\n"
      ],
      "metadata": {
        "id": "P5SuhTdvxQE8"
      },
      "execution_count": null,
      "outputs": []
    },
    {
      "cell_type": "code",
      "source": [
        "#9. Different Types of Data in Statistics\n",
        "\n",
        "#ans.>> there are two types of data: -\n",
        "#       1. Quantitative data:- these are the numerical data which having some quantity(.i.e. 12,32,54,13 etc)\n",
        "#       2. Qualitative data: - these are the the categorical data having some quality (. i.e. red , blue,male ,female etc)\n"
      ],
      "metadata": {
        "id": "ugOghxb8xmMd"
      },
      "execution_count": null,
      "outputs": []
    },
    {
      "cell_type": "code",
      "source": [
        "#10. Explain Nominal, Ordinal, Interval, and Ratio Levels of Measurement\n",
        "\n",
        "#ans.>>1.Nominal: Categories, no order. (e.g., Gender: Male/Female)\n",
        "#      2. Ordinal: Ordered categories. (e.g., Movie ratings: Good > Average > Bad)\n",
        "#      3. Interval: Numerical, no true zero. (e.g., Temperature in °C)\n",
        "#      4. Ratio: Numerical, true zero. (e.g., Weight, Height)\n"
      ],
      "metadata": {
        "id": "atKk5Iu_xtkB"
      },
      "execution_count": null,
      "outputs": []
    },
    {
      "cell_type": "code",
      "source": [
        "#11. What is the Measure of Central Tendency?\n",
        "\n",
        "#ans.>> measure of central tendency:- central tendency represents the central point of a dataset\n",
        "#      1.mean\n",
        "#      2.median\n",
        "#      4.mode\n"
      ],
      "metadata": {
        "id": "gDMK7MzCxwm8"
      },
      "execution_count": null,
      "outputs": []
    },
    {
      "cell_type": "code",
      "source": [
        "#12. Define Mean, Median, and Mode\n",
        "\n",
        "#ans.>>1.mean :- this is average or arthmetic mid value\n",
        "#      2.median :- this is the physical mid value of dataset\n",
        "#      4.mode :- this the the value of data set which having highest frequency\n"
      ],
      "metadata": {
        "id": "1reOJfmHx2ZH"
      },
      "execution_count": null,
      "outputs": []
    },
    {
      "cell_type": "code",
      "source": [
        "#13. Significance of the Measure of Central Tendency\n",
        "\n",
        "#ans.>> summarisation of data without adding or subtracting anything at a specifice instance/time\n"
      ],
      "metadata": {
        "id": "uKlixeJox9Zn"
      },
      "execution_count": null,
      "outputs": []
    },
    {
      "cell_type": "code",
      "source": [
        "#14. What is Variance, and How is it Calculated?\n",
        "\n",
        "#ans.>>the average of the squared difference from the mean , variance is talks about spread at an overall level\n",
        "#     Variance= [(x-mean of x)**2]/n\n"
      ],
      "metadata": {
        "id": "srHB1QYTyCV2"
      },
      "execution_count": null,
      "outputs": []
    },
    {
      "cell_type": "code",
      "source": [
        "#15. What is Skewness in a Dataset?\n",
        "\n",
        "#ans.>>Skewness measures if the data is symmetrical or leaned to one side.\n",
        "#      1. positive skewness :-tail on the right side\n",
        "#      2. negative skewness :- tail on the left side\n"
      ],
      "metadata": {
        "id": "hHPWNSv-yHDX"
      },
      "execution_count": null,
      "outputs": []
    },
    {
      "cell_type": "code",
      "source": [
        "#16. What is Standard Deviation, and Why is it Important?\n",
        "\n",
        "#ans.>>standard deviation is a measure of how spread out numbers are , it shows how much the values differ from the mean.\n",
        "#      important because it tells us about data variability.\n",
        "#      standard deviation = square root of variance\n"
      ],
      "metadata": {
        "id": "Q6AaKqUDyRAh"
      },
      "execution_count": null,
      "outputs": []
    },
    {
      "cell_type": "code",
      "source": [
        "#17. Define and Explain the Term Range in Statistics\n",
        "\n",
        "#ans.>> range shows the speeds of data\n",
        "#      range = highest value - lowest value\n"
      ],
      "metadata": {
        "id": "VXL2KAXtyRtd"
      },
      "execution_count": null,
      "outputs": []
    },
    {
      "cell_type": "code",
      "source": [
        "#18. Difference Between Variance and Standard Deviation\n",
        "\n",
        "#ans.>>Variance: Average squared deviation\n",
        "#      Standard Deviation: Square root of variance (easier to interpret).\n"
      ],
      "metadata": {
        "id": "VAhft45WyWvI"
      },
      "execution_count": null,
      "outputs": []
    },
    {
      "cell_type": "code",
      "source": [
        "#19. What Does It Mean if a Dataset is Positively or Negatively Skewed?\n",
        "\n",
        "#ans.>>1. positive skewness: -tail on the right side (mean>=median>=mode)\n",
        "#      2. negative skewness:- tail on the left side(mean<=median<=mode)\n"
      ],
      "metadata": {
        "id": "njF_YQVpybVI"
      },
      "execution_count": null,
      "outputs": []
    },
    {
      "cell_type": "code",
      "source": [
        "#20. Define and Explain Kurtosis\n",
        "\n",
        "#ans.>>Kurtosis measures the \"peakiness\" or flatness of a distribution.\n",
        "#      1. High kurtosis → Sharp peak.\n",
        "#      2. Low kurtosis → Flat, broad peak.\n"
      ],
      "metadata": {
        "id": "D9xi1hu-yj1N"
      },
      "execution_count": null,
      "outputs": []
    },
    {
      "cell_type": "code",
      "source": [
        "#21. What is the Purpose of Covariance?\n",
        "\n",
        "#ans.>> co-variance :- it means, you are trying to understand the relationship of features with respect to other features\n",
        "#      1.Positive covariance → move in the same direction.\n",
        "#      2.Negative covariance → move in opposite directions.\n"
      ],
      "metadata": {
        "id": "btXrNkAnyuhI"
      },
      "execution_count": null,
      "outputs": []
    },
    {
      "cell_type": "code",
      "source": [
        "#22. What Does Correlation Measure in Statistics?\n",
        "\n",
        "#ans.>>Correlation measures how strongly two variables are related and in what direction (positive or negative).\n"
      ],
      "metadata": {
        "id": "Ze6c5QNoy3p0"
      },
      "execution_count": null,
      "outputs": []
    },
    {
      "cell_type": "code",
      "source": [
        "#23. Difference Between Covariance and Correlation\n",
        "\n",
        "#ans.>>these are the difference between Covariance and Correlation: -\n",
        "#      1. Covariance: Only tells direction of relationship, unit-based.\n",
        "#     2. Correlation: Tells direction and strength, standardized between -1 and +1.\n"
      ],
      "metadata": {
        "id": "sUxDj9Twy_-p"
      },
      "execution_count": null,
      "outputs": []
    },
    {
      "cell_type": "code",
      "source": [
        "#24. What are some real-world applications of statistics?\n",
        "\n",
        "#ans.>> used in some sectors like this: -\n",
        "#1. Healthcare: Analysing treatment effects.\n",
        "#2. Business: Market research and sales forecasting.\n",
        "#3. Government: Census, planning budgets.\n",
        "#4. defence: analysis data for strategies directions.\n"
      ],
      "metadata": {
        "id": "jqUTx5OIzAj4"
      },
      "execution_count": null,
      "outputs": []
    },
    {
      "cell_type": "markdown",
      "source": [
        "Practical Questions"
      ],
      "metadata": {
        "id": "UlHzjMFRzSpY"
      }
    },
    {
      "cell_type": "code",
      "source": [
        "import numpy as np\n",
        "import pandas as pd\n",
        "import matplotlib.pyplot as plt\n",
        "import seaborn as sns\n",
        "import random\n",
        "from scipy import stats\n",
        "from scipy.stats import zscore\n",
        "\n"
      ],
      "metadata": {
        "id": "2OM_TJBH0D1B"
      },
      "execution_count": null,
      "outputs": []
    },
    {
      "cell_type": "code",
      "source": [
        "#1. How to Calculate Mean, Median, and Mode of a Dataset\n",
        "\n",
        "data = [1,2,3,4,2,5,2,7,43,6,8]\n",
        "\n",
        "print(\"mean :\" ,np.mean(data))\n",
        "print(\"median : \" ,np.median(data))\n",
        "print(\"mode : \" ,stats.mode(data))"
      ],
      "metadata": {
        "colab": {
          "base_uri": "https://localhost:8080/"
        },
        "id": "IrqciuZI3a9t",
        "outputId": "09aeb8a1-7ba9-4655-91a6-ce7b83f71e6d"
      },
      "execution_count": null,
      "outputs": [
        {
          "output_type": "stream",
          "name": "stdout",
          "text": [
            "mean : 7.545454545454546\n",
            "median :  4.0\n",
            "mode :  ModeResult(mode=np.int64(2), count=np.int64(3))\n"
          ]
        }
      ]
    },
    {
      "cell_type": "code",
      "source": [
        "#2.Write a Python program to compute the variance and standard deviation of a dataset\n",
        "\n",
        "data = [1,2,3,4,2,5,2,7,43,6,8]\n",
        "print(\"variance : \" , np.var(data))\n",
        "print(\"standard deviation : \" , np.std(data))"
      ],
      "metadata": {
        "colab": {
          "base_uri": "https://localhost:8080/"
        },
        "id": "f1mbq0aC3VBM",
        "outputId": "5a1ef7fc-a381-460a-bcd8-69c7bafa5719"
      },
      "execution_count": null,
      "outputs": [
        {
          "output_type": "stream",
          "name": "stdout",
          "text": [
            "variance :  130.4297520661157\n",
            "standard deviation :  11.420584576374175\n"
          ]
        }
      ]
    },
    {
      "cell_type": "code",
      "source": [
        "#3.Create a dataset and classify it into nominal, ordinal, interval, and ratio types\n",
        "\n",
        "nominal = [\"orange\" , \"banana\", \"apple\" , \"kiwi\"]\n",
        "ordinal = [\"good\" , \"bad\" , \"bad\" , \"good\"]\n",
        "interval = [-10 , 45 , 0 , 19]\n",
        "ratio = [ 10 , 30 , 25 ,64 ]\n",
        "print(f\"nominal : {nominal}\")\n",
        "print(f\"ordinal : {ordinal}\")\n",
        "print(f\"interval : {interval}\")\n",
        "print(f\"ratio : {ratio}\")"
      ],
      "metadata": {
        "colab": {
          "base_uri": "https://localhost:8080/"
        },
        "id": "4tV6Walo3DWh",
        "outputId": "697c6d42-476f-4491-bdbd-2f21a2fc9685"
      },
      "execution_count": null,
      "outputs": [
        {
          "output_type": "stream",
          "name": "stdout",
          "text": [
            "nominal : ['orange', 'banana', 'apple', 'kiwi']\n",
            "ordinal : ['good', 'bad', 'bad', 'good']\n",
            "interval : [-10, 45, 0, 19]\n",
            "ratio : [10, 30, 25, 64]\n"
          ]
        }
      ]
    },
    {
      "cell_type": "code",
      "source": [
        "#4.Implement sampling techniques like random sampling and stratified sampling.\n",
        "\n",
        "data = list(range(1,101))\n",
        "\n",
        "random_sampling = random.sample(data,10)\n",
        "\n",
        "#for stratified sample\n",
        "group_1 = [i for i in data if i >=50]\n",
        "group_2 = [i for i in data if i <50]\n",
        "\n",
        "stratified_sampling = random.sample(group_1,5)+random.sample(group_2,5)\n",
        "\n",
        "print(f\"random sampling : {random_sampling}\")\n",
        "print(f\"stratified sampling : {stratified_sampling}\")"
      ],
      "metadata": {
        "colab": {
          "base_uri": "https://localhost:8080/"
        },
        "id": "5hLQTcy_3MC9",
        "outputId": "ac817654-1649-4566-e8f2-4badf8c3cfea"
      },
      "execution_count": null,
      "outputs": [
        {
          "output_type": "stream",
          "name": "stdout",
          "text": [
            "random sampling : [28, 13, 76, 75, 83, 90, 96, 77, 97, 80]\n",
            "stratified sampling : [78, 66, 84, 97, 77, 34, 33, 13, 44, 25]\n"
          ]
        }
      ]
    },
    {
      "cell_type": "code",
      "source": [
        "#5.Write a Python function to calculate the range of a dataset\n",
        "\n",
        "data = [1,2,3,4,2,5,2,7,43,6,8]\n",
        "def cal_range(data):\n",
        "    return max(data)-min(data)\n",
        "\n",
        "print(\"range : \" ,cal_range(data))"
      ],
      "metadata": {
        "colab": {
          "base_uri": "https://localhost:8080/"
        },
        "id": "yPPxnnnJ26Eg",
        "outputId": "7366f8eb-ddbf-414b-a637-3a3bace4730c"
      },
      "execution_count": null,
      "outputs": [
        {
          "output_type": "stream",
          "name": "stdout",
          "text": [
            "range :  42\n"
          ]
        }
      ]
    },
    {
      "cell_type": "code",
      "source": [
        "#6.Create a dataset and plot its histogram to visualize skewness.\n",
        "\n",
        "data = np.random.normal(0,1,1000)\n",
        "\n",
        "plt.hist(data,bins = 10,edgecolor = \"black\" , color = \"skyblue\")\n",
        "plt.title(\"histogram\")\n",
        "plt.grid()\n",
        "plt.show()"
      ],
      "metadata": {
        "colab": {
          "base_uri": "https://localhost:8080/",
          "height": 452
        },
        "id": "JdAL8VCn3tLI",
        "outputId": "9f4acd33-3144-4a52-8504-797efbe85790"
      },
      "execution_count": null,
      "outputs": [
        {
          "output_type": "display_data",
          "data": {
            "text/plain": [
              "<Figure size 640x480 with 1 Axes>"
            ],
            "image/png": "[encoded data removed]"
          },
          "metadata": {}
        }
      ]
    },
    {
      "cell_type": "code",
      "source": [
        "#7.Calculate skewness and kurtosis of a dataset using Python libraries.\n",
        "from scipy.stats import skew, kurtosis\n",
        "\n",
        "data = np.random.normal(0,1,1000)\n",
        "\n",
        "print(\"skewness :\" , skew(data))\n",
        "print(\"kurtosis : \" ,kurtosis(data))"
      ],
      "metadata": {
        "colab": {
          "base_uri": "https://localhost:8080/"
        },
        "id": "VEVNzNBM3vYP",
        "outputId": "463a7ec2-c50c-4312-a4f3-3a8ae05e4c11"
      },
      "execution_count": null,
      "outputs": [
        {
          "output_type": "stream",
          "name": "stdout",
          "text": [
            "skewness : -0.006940507138319131\n",
            "kurtosis :  -0.03526928157334419\n"
          ]
        }
      ]
    },
    {
      "cell_type": "code",
      "source": [
        "#8.Generate a dataset and demonstrate positive and negative skewness.\n",
        "positive_skew = np.random.gamma(1,5,1000)\n",
        "negative_skew = np.random.beta(10,1,1000)\n",
        "\n",
        "plt.figure()\n",
        "\n",
        "plt.subplot(1,2,1)\n",
        "plt.hist(positive_skew,bins=15,edgecolor=\"forestgreen\",color=\"limegreen\")\n",
        "plt.title(\"positive skewness\")\n",
        "\n",
        "plt.subplot(1,2,2)\n",
        "plt.hist(negative_skew,bins=15,edgecolor=\"red\",color = \"salmon\")\n",
        "plt.title(\"negative skewness\")\n",
        "\n",
        "plt.show()"
      ],
      "metadata": {
        "colab": {
          "base_uri": "https://localhost:8080/",
          "height": 452
        },
        "id": "pwyFafYg3t17",
        "outputId": "1c4007f7-b49e-4330-96f4-1dfe62d42f78"
      },
      "execution_count": null,
      "outputs": [
        {
          "output_type": "display_data",
          "data": {
            "text/plain": [
              "<Figure size 640x480 with 2 Axes>"
            ],
            "image/png": "[encoded data removed]"
          },
          "metadata": {}
        }
      ]
    },
    {
      "cell_type": "code",
      "source": [
        "#9.Write a Python script to calculate covariance between two datasets.\n",
        "x=[12,32,54,65,14,65,34]\n",
        "y=[52,64,15,21,73,16,18]\n",
        "\n",
        "print(\"co-variance : \" ,np.cov(x,y)[0][1])"
      ],
      "metadata": {
        "colab": {
          "base_uri": "https://localhost:8080/"
        },
        "id": "AWOeNagF4orz",
        "outputId": "fb966a01-c85c-4998-b02a-419a0f626761"
      },
      "execution_count": null,
      "outputs": [
        {
          "output_type": "stream",
          "name": "stdout",
          "text": [
            "co-variance :  -448.5\n"
          ]
        }
      ]
    },
    {
      "cell_type": "code",
      "source": [
        "#10.Write a Python script to calculate the correlation coefficient between two datasets.\n",
        "x=[12,32,54,65,14,65,34]\n",
        "y=[52,64,15,21,73,16,18]\n",
        "print(\"correlation coefficient : \" , np.corrcoef(x,y)[0][1])"
      ],
      "metadata": {
        "colab": {
          "base_uri": "https://localhost:8080/"
        },
        "id": "bfv61XBBLmtW",
        "outputId": "9316760a-9dd4-46d9-8d6c-4071b50f264d"
      },
      "execution_count": null,
      "outputs": [
        {
          "output_type": "stream",
          "name": "stdout",
          "text": [
            "correlation coefficient :  -0.7973522487593087\n"
          ]
        }
      ]
    },
    {
      "cell_type": "code",
      "source": [
        "#11.Create a scatter plot to visualize the relationship between two variables.\n",
        "x=[12,32,54,65,14,65,34]\n",
        "y=[52,64,15,21,73,16,18]\n",
        "\n",
        "plt.figure()\n",
        "plt.scatter(x,y,color=\"limegreen\")\n",
        "plt.title(\"scatter plot of x and y\")\n",
        "plt.xlabel(\"x\")\n",
        "plt.ylabel(\"y\")\n",
        "plt.show()\n"
      ],
      "metadata": {
        "colab": {
          "base_uri": "https://localhost:8080/",
          "height": 472
        },
        "id": "CtrWZPTyLsbf",
        "outputId": "adfacf77-94d5-4310-fbc9-77e6a92643bd"
      },
      "execution_count": null,
      "outputs": [
        {
          "output_type": "display_data",
          "data": {
            "text/plain": [
              "<Figure size 640x480 with 1 Axes>"
            ],
            "image/png": "[encoded data removed]"
          },
          "metadata": {}
        }
      ]
    },
    {
      "cell_type": "code",
      "source": [
        "#12.Implement and compare simple random sampling and systematic sampling.\n",
        "\n",
        "import random # Import the random module\n",
        "data = list(range(1,2000))\n",
        "\n",
        "random_sampling = random.sample(data,10)\n",
        "\n",
        "systematic_sampling = data[::200]\n",
        "print(f\"random sampling : {random_sampling}\")\n",
        "print(f\"systematic sampling : {systematic_sampling}\")\n"
      ],
      "metadata": {
        "colab": {
          "base_uri": "https://localhost:8080/"
        },
        "id": "i6HgoH2BLx_H",
        "outputId": "e5e40c9d-3637-4775-d770-51b5417cbb8a"
      },
      "execution_count": null,
      "outputs": [
        {
          "output_type": "stream",
          "name": "stdout",
          "text": [
            "random sampling : [625, 1774, 415, 1801, 502, 659, 1218, 922, 105, 1621]\n",
            "systematic sampling : [1, 201, 401, 601, 801, 1001, 1201, 1401, 1601, 1801]\n"
          ]
        }
      ]
    },
    {
      "cell_type": "code",
      "source": [
        "#13.Calculate the mean, median, and mode of grouped data .\n",
        "CI = [(0,10),(10,20),(20,30),(30,40),(40,50)]\n",
        "freq = [13,25,54,38,12]\n",
        "mid_points = list(map(lambda x : (x[0]+x[1])/2 , CI))\n",
        "print(\"mean : \" ,sum(map(lambda m,f:f*m,mid_points,freq))/sum(freq))\n",
        "print(\"mode : \" , max(freq))\n"
      ],
      "metadata": {
        "colab": {
          "base_uri": "https://localhost:8080/"
        },
        "id": "iv8HDom-gte5",
        "outputId": "0ca7aa75-e14d-4183-f8dd-e4be9e1dee92"
      },
      "execution_count": null,
      "outputs": [
        {
          "output_type": "stream",
          "name": "stdout",
          "text": [
            "mean :  25.774647887323944\n",
            "mode :  54\n"
          ]
        }
      ]
    },
    {
      "cell_type": "code",
      "source": [
        "\n",
        "mid_points"
      ],
      "metadata": {
        "colab": {
          "base_uri": "https://localhost:8080/"
        },
        "id": "w1uLKKrbgwzl",
        "outputId": "b43a20dc-74cb-48fa-d491-0a48c89a8d5b"
      },
      "execution_count": null,
      "outputs": [
        {
          "output_type": "execute_result",
          "data": {
            "text/plain": [
              "[5.0, 15.0, 25.0, 35.0, 45.0]"
            ]
          },
          "metadata": {},
          "execution_count": 21
        }
      ]
    },
    {
      "cell_type": "code",
      "source": [
        "#14.simulate data using Python and calculate its central tendency and dispersion.\n",
        "\n",
        "import numpy as np # Add import statement for numpy\n",
        "from scipy import stats # Add import statement for stats module\n",
        "\n",
        "data = np.random.normal(loc=50,scale=10,size=100)\n",
        "print(\"meam :\",np.mean(data))\n",
        "print(\"median :\",np.median(data))\n",
        "print(\"mode : \",stats.mode(data)[0])\n",
        "print(\"variance :\", np.var(data))\n",
        "print(\"standard deviation :\" , np.std(data))"
      ],
      "metadata": {
        "colab": {
          "base_uri": "https://localhost:8080/"
        },
        "id": "Tja9ghneMIUK",
        "outputId": "a329aac4-ff73-4d30-fb3d-50188d7d8b0c"
      },
      "execution_count": null,
      "outputs": [
        {
          "output_type": "stream",
          "name": "stdout",
          "text": [
            "meam : 51.91384833968674\n",
            "median : 52.20715922584414\n",
            "mode :  20.177738573687307\n",
            "variance : 102.82427591507343\n",
            "standard deviation : 10.140230565183092\n"
          ]
        }
      ]
    },
    {
      "cell_type": "code",
      "source": [
        "#15.Use NumPy or pandas to summarize a dataset’s descriptive statistics.\n",
        "\n",
        "data = np.random.normal(50,10,20)\n",
        "df  =  pd.Series(data)\n",
        "df.describe()\n"
      ],
      "metadata": {
        "colab": {
          "base_uri": "https://localhost:8080/",
          "height": 335
        },
        "id": "sDVBoOdKMamF",
        "outputId": "38930860-bccb-4acb-ea4b-0f48494e1229"
      },
      "execution_count": null,
      "outputs": [
        {
          "output_type": "execute_result",
          "data": {
            "text/plain": [
              "count    20.000000\n",
              "mean     52.750165\n",
              "std       8.128514\n",
              "min      39.825731\n",
              "25%      46.561972\n",
              "50%      52.442794\n",
              "75%      57.281288\n",
              "max      67.549765\n",
              "dtype: float64"
            ],
            "text/html": [
              "<div>\n",
              "<style scoped>\n",
              "    .dataframe tbody tr th:only-of-type {\n",
              "        vertical-align: middle;\n",
              "    }\n",
              "\n",
              "    .dataframe tbody tr th {\n",
              "        vertical-align: top;\n",
              "    }\n",
              "\n",
              "    .dataframe thead th {\n",
              "        text-align: right;\n",
              "    }\n",
              "</style>\n",
              "<table border=\"1\" class=\"dataframe\">\n",
              "  <thead>\n",
              "    <tr style=\"text-align: right;\">\n",
              "      <th></th>\n",
              "      <th>0</th>\n",
              "    </tr>\n",
              "  </thead>\n",
              "  <tbody>\n",
              "    <tr>\n",
              "      <th>count</th>\n",
              "      <td>20.000000</td>\n",
              "    </tr>\n",
              "    <tr>\n",
              "      <th>mean</th>\n",
              "      <td>52.750165</td>\n",
              "    </tr>\n",
              "    <tr>\n",
              "      <th>std</th>\n",
              "      <td>8.128514</td>\n",
              "    </tr>\n",
              "    <tr>\n",
              "      <th>min</th>\n",
              "      <td>39.825731</td>\n",
              "    </tr>\n",
              "    <tr>\n",
              "      <th>25%</th>\n",
              "      <td>46.561972</td>\n",
              "    </tr>\n",
              "    <tr>\n",
              "      <th>50%</th>\n",
              "      <td>52.442794</td>\n",
              "    </tr>\n",
              "    <tr>\n",
              "      <th>75%</th>\n",
              "      <td>57.281288</td>\n",
              "    </tr>\n",
              "    <tr>\n",
              "      <th>max</th>\n",
              "      <td>67.549765</td>\n",
              "    </tr>\n",
              "  </tbody>\n",
              "</table>\n",
              "</div><br><label><b>dtype:</b> float64</label>"
            ]
          },
          "metadata": {},
          "execution_count": 11
        }
      ]
    },
    {
      "cell_type": "code",
      "source": [
        "#16.Plot a boxplot to understand the spread and identify outliers\n",
        "data = (2,3,2,4,4,1,2,5,6,7,4,12,16,35,42,56,22,27,110,140)\n",
        "sns.catplot(data=data ,kind=\"box\")\n"
      ],
      "metadata": {
        "colab": {
          "base_uri": "https://localhost:8080/",
          "height": 523
        },
        "id": "gPnFaHQFMhAe",
        "outputId": "5932650e-e473-4cba-a88d-93122bb93555"
      },
      "execution_count": null,
      "outputs": [
        {
          "output_type": "execute_result",
          "data": {
            "text/plain": [
              "<seaborn.axisgrid.FacetGrid at 0x79f4c4733c90>"
            ]
          },
          "metadata": {},
          "execution_count": 12
        },
        {
          "output_type": "display_data",
          "data": {
            "text/plain": [
              "<Figure size 500x500 with 1 Axes>"
            ],
            "image/png": "[encoded data removed]"
          },
          "metadata": {}
        }
      ]
    },
    {
      "cell_type": "code",
      "source": [
        "#17.Calculate the interquartile range (IQR) of a dataset .\n",
        "data = (2,3,2,4,4,1,2,5,6,7,4,12,16,35,42,56,22,27,110,140)\n",
        "Q1=np.percentile(data,25)\n",
        "Q3=np.percentile(data,75)\n",
        "IQR = Q3-Q1\n",
        "print(\"IQR :\",IQR)\n"
      ],
      "metadata": {
        "colab": {
          "base_uri": "https://localhost:8080/"
        },
        "id": "rGg7_3gMMigu",
        "outputId": "3e556b90-36ad-400a-b1a7-ed5cd46556f0"
      },
      "execution_count": null,
      "outputs": [
        {
          "output_type": "stream",
          "name": "stdout",
          "text": [
            "IQR : 25.25\n"
          ]
        }
      ]
    },
    {
      "cell_type": "code",
      "source": [
        "#19.Compare two datasets using their standard deviations.\n",
        "data1=np.random.normal(10,20,25)\n",
        "data2=np.random.normal(30,50,25)\n",
        "\n",
        "std1 = np.std(data1)\n",
        "std2 = np.std(data2)\n",
        "print(F\"standard deviation for data 1: {std1}\")\n",
        "print(F\"standard deviation for data 2: {std2}\")\n"
      ],
      "metadata": {
        "colab": {
          "base_uri": "https://localhost:8080/"
        },
        "id": "YfU-phUTNMTW",
        "outputId": "e4b9aca9-aae0-4673-8666-552dfbc6bcf2"
      },
      "execution_count": null,
      "outputs": [
        {
          "output_type": "stream",
          "name": "stdout",
          "text": [
            "standard deviation for data 1: 19.496046735639975\n",
            "standard deviation for data 2: 50.183445763044986\n"
          ]
        }
      ]
    },
    {
      "cell_type": "code",
      "source": [
        "#20.Write a Python program to visualize covariance using a heatmap.\n",
        "\n",
        "\n",
        "import numpy as np # Import numpy with the alias 'np'\n",
        "import pandas as pd\n",
        "import seaborn as sns\n",
        "import matplotlib.pyplot as plt\n",
        "\n",
        "data1=np.random.normal(10,20,25)\n",
        "data2=np.random.normal(30,50,25)\n",
        "\n",
        "df1 = pd.DataFrame({\"data1\":data1 , \"data2\":data2})\n",
        "cov = df1.cov()\n",
        "sns.heatmap(data=cov,annot = True ,cmap=\"Pastel1\",fmt=\".2f\")\n",
        "plt.title(\"covariance heatmap\")\n",
        "plt.show()\n"
      ],
      "metadata": {
        "id": "q_-RFRabiT-H",
        "colab": {
          "base_uri": "https://localhost:8080/",
          "height": 452
        },
        "outputId": "89259a1b-cc66-46bf-b91a-e2cc1da401c5"
      },
      "execution_count": null,
      "outputs": [
        {
          "output_type": "display_data",
          "data": {
            "text/plain": [
              "<Figure size 640x480 with 2 Axes>"
            ],
            "image/png": "[encoded data removed]"
          },
          "metadata": {}
        }
      ]
    },
    {
      "cell_type": "code",
      "source": [
        "#21.Use seaborn to create a correlation matrix for a dataset .\n",
        "data1=np.random.normal(10,20,25)\n",
        "data2=np.random.normal(30,50,25)\n",
        "\n",
        "df1 = pd.DataFrame({\"data1\":data1 , \"data2\":data2})\n",
        "corr_matrix = df1.corr()\n",
        "sns.heatmap(data=corr_matrix,annot = True ,cmap=\"Pastel1\",fmt=\".2f\")\n",
        "plt.title(\"correlation heatmap\")\n",
        "plt.show()\n"
      ],
      "metadata": {
        "id": "nzhjf4d6i_Xw",
        "colab": {
          "base_uri": "https://localhost:8080/",
          "height": 452
        },
        "outputId": "3bb71b40-886f-4b13-e784-ccf4fd06650b"
      },
      "execution_count": null,
      "outputs": [
        {
          "output_type": "display_data",
          "data": {
            "text/plain": [
              "<Figure size 640x480 with 2 Axes>"
            ],
            "image/png": "[encoded data removed]"
          },
          "metadata": {}
        }
      ]
    },
    {
      "cell_type": "code",
      "source": [
        "#22.Generate a dataset and implement both variance and standard deviation computations .\n",
        "data1=np.random.normal(10,20,25)\n",
        "\n",
        "var = np.var(data1)\n",
        "std = np.std(data1)\n",
        "print(\"variance :\",var)\n",
        "print(\"standard deviation :\",std)\n"
      ],
      "metadata": {
        "colab": {
          "base_uri": "https://localhost:8080/"
        },
        "id": "IBFfb9Z1NUPA",
        "outputId": "d1a153b1-1048-463f-ddf8-0170694fddbf"
      },
      "execution_count": null,
      "outputs": [
        {
          "output_type": "stream",
          "name": "stdout",
          "text": [
            "variance : 268.44897640352895\n",
            "standard deviation : 16.38441260477558\n"
          ]
        }
      ]
    },
    {
      "cell_type": "code",
      "source": [
        "#23.Visualize skewness and kurtosis using Python libraries like matplotlib or seaborn.\n",
        "from scipy.stats import skew, kurtosis\n",
        "data = (2,3,4,2,3,5,6,6,5,8,9,6,8,4,6,7,3,4,4,7,2,5,8)\n",
        "\n",
        "skewness = skew(data)\n",
        "kurt = kurtosis(data)\n",
        "\n",
        "print(\"Skewness:\",skewness)\n",
        "print(\"Kurtosis:\",kurt)\n",
        "\n",
        "plt.hist(data, bins=30, edgecolor='saddlebrown',color=\"wheat\")\n",
        "plt.title(\"Histogram of Data\")\n",
        "plt.show()"
      ],
      "metadata": {
        "colab": {
          "base_uri": "https://localhost:8080/",
          "height": 487
        },
        "id": "xp-cPkLGNXZ9",
        "outputId": "9952c6d8-9dd6-4cfb-bdaf-8beb524b3a9b"
      },
      "execution_count": null,
      "outputs": [
        {
          "output_type": "stream",
          "name": "stdout",
          "text": [
            "Skewness: 0.15100227191488425\n",
            "Kurtosis: -1.0413499259259253\n"
          ]
        },
        {
          "output_type": "display_data",
          "data": {
            "text/plain": [
              "<Figure size 640x480 with 1 Axes>"
            ],
            "image/png": "[encoded data removed]"
          },
          "metadata": {}
        }
      ]
    },
    {
      "cell_type": "code",
      "source": [
        "#24.Implement the Pearson and Spearman correlation coefficients for a dataset\n",
        "from scipy.stats import pearsonr, spearmanr\n",
        "data1=np.random.normal(10,20,25)\n",
        "data2=np.random.normal(30,50,25)\n",
        "\n",
        "print(\"pearson correlation coeficient : \" , pearsonr(data1,data2)[0])\n",
        "print(\"spearman correlation coeficient : \" , spearmanr(data1,data2)[0])\n"
      ],
      "metadata": {
        "colab": {
          "base_uri": "https://localhost:8080/"
        },
        "id": "3pCpjPhKNamZ",
        "outputId": "59e0459a-8fab-4b8f-c58e-142ba30e7af8"
      },
      "execution_count": null,
      "outputs": [
        {
          "output_type": "stream",
          "name": "stdout",
          "text": [
            "pearson correlation coeficient :  0.18302026454852793\n",
            "spearman correlation coeficient :  0.1815384615384615\n"
          ]
        }
      ]
    },
    {
      "cell_type": "code",
      "source": [
        "\n",
        "#18.Implement Z-score normalization and explain its significance.\n",
        "data = (2,3,2,4,4,1,2,5,6,7,4,12,16,35,42,56,22,27,110,140)\n",
        "print(\"zscore : \", zscore(data)[:10])"
      ],
      "metadata": {
        "colab": {
          "base_uri": "https://localhost:8080/",
          "height": 176
        },
        "id": "MR2xAjJdNec3",
        "outputId": "5b857bb1-1b58-4b0a-9cb0-66fa26ebc14b"
      },
      "execution_count": null,
      "outputs": [
        {
          "output_type": "error",
          "ename": "NameError",
          "evalue": "name 'zscore' is not defined",
          "traceback": [
            "\u001b[0;31m---------------------------------------------------------------------------\u001b[0m",
            "\u001b[0;31mNameError\u001b[0m                                 Traceback (most recent call last)",
            "\u001b[0;32m<ipython-input-23-e74100d2a575>\u001b[0m in \u001b[0;36m<cell line: 0>\u001b[0;34m()\u001b[0m\n\u001b[1;32m      1\u001b[0m \u001b[0;31m#18.Implement Z-score normalization and explain its significance.\u001b[0m\u001b[0;34m\u001b[0m\u001b[0;34m\u001b[0m\u001b[0m\n\u001b[1;32m      2\u001b[0m \u001b[0mdata\u001b[0m \u001b[0;34m=\u001b[0m \u001b[0;34m(\u001b[0m\u001b[0;36m2\u001b[0m\u001b[0;34m,\u001b[0m\u001b[0;36m3\u001b[0m\u001b[0;34m,\u001b[0m\u001b[0;36m2\u001b[0m\u001b[0;34m,\u001b[0m\u001b[0;36m4\u001b[0m\u001b[0;34m,\u001b[0m\u001b[0;36m4\u001b[0m\u001b[0;34m,\u001b[0m\u001b[0;36m1\u001b[0m\u001b[0;34m,\u001b[0m\u001b[0;36m2\u001b[0m\u001b[0;34m,\u001b[0m\u001b[0;36m5\u001b[0m\u001b[0;34m,\u001b[0m\u001b[0;36m6\u001b[0m\u001b[0;34m,\u001b[0m\u001b[0;36m7\u001b[0m\u001b[0;34m,\u001b[0m\u001b[0;36m4\u001b[0m\u001b[0;34m,\u001b[0m\u001b[0;36m12\u001b[0m\u001b[0;34m,\u001b[0m\u001b[0;36m16\u001b[0m\u001b[0;34m,\u001b[0m\u001b[0;36m35\u001b[0m\u001b[0;34m,\u001b[0m\u001b[0;36m42\u001b[0m\u001b[0;34m,\u001b[0m\u001b[0;36m56\u001b[0m\u001b[0;34m,\u001b[0m\u001b[0;36m22\u001b[0m\u001b[0;34m,\u001b[0m\u001b[0;36m27\u001b[0m\u001b[0;34m,\u001b[0m\u001b[0;36m110\u001b[0m\u001b[0;34m,\u001b[0m\u001b[0;36m140\u001b[0m\u001b[0;34m)\u001b[0m\u001b[0;34m\u001b[0m\u001b[0;34m\u001b[0m\u001b[0m\n\u001b[0;32m----> 3\u001b[0;31m \u001b[0mprint\u001b[0m\u001b[0;34m(\u001b[0m\u001b[0;34m\"zscore : \"\u001b[0m\u001b[0;34m,\u001b[0m \u001b[0mzscore\u001b[0m\u001b[0;34m(\u001b[0m\u001b[0mdata\u001b[0m\u001b[0;34m)\u001b[0m\u001b[0;34m[\u001b[0m\u001b[0;34m:\u001b[0m\u001b[0;36m10\u001b[0m\u001b[0;34m]\u001b[0m\u001b[0;34m)\u001b[0m\u001b[0;34m\u001b[0m\u001b[0;34m\u001b[0m\u001b[0m\n\u001b[0m",
            "\u001b[0;31mNameError\u001b[0m: name 'zscore' is not defined"
          ]
        }
      ]
    },
    {
      "cell_type": "code",
      "source": [
        "#18.Implement Z-score normalization and explain its significance.\n",
        "from scipy.stats import zscore # Import the zscore function\n",
        "\n",
        "data = (2,3,2,4,4,1,2,5,6,7,4,12,16,35,42,56,22,27,110,140)\n",
        "print(\"zscore : \", zscore(data)[:10])\n"
      ],
      "metadata": {
        "colab": {
          "base_uri": "https://localhost:8080/"
        },
        "id": "t_NXnJtANm2E",
        "outputId": "c97caeb5-b4fa-487a-d41d-d1d18cfab743"
      },
      "execution_count": null,
      "outputs": [
        {
          "output_type": "stream",
          "name": "stdout",
          "text": [
            "zscore :  [-0.6246173  -0.59746002 -0.6246173  -0.57030275 -0.57030275 -0.65177457\n",
            " -0.6246173  -0.54314547 -0.5159882  -0.48883093]\n"
          ]
        }
      ]
    },
    {
      "cell_type": "code",
      "source": [],
      "metadata": {
        "id": "aJgUUR5lNxuD"
      },
      "execution_count": null,
      "outputs": []
    }
  ]
}